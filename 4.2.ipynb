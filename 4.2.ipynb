{
    "nbformat_minor": 1, 
    "cells": [
        {
            "source": "# Capstone Project_Part1 (W4)\n\n# Description of Problem\n\n# Business Understanding\nProblem brought up by Client -\nWhich City and Locality is best to open a Casino/Shopping mall in USA?\n\n+Background My client is a successful Entrepreneur in Asia and now he wants to expand his Business in other countries. He wants to open a Casiono/Shopping Mall in USA but not sure in which City and Locality he should open the Mall and be Succeessful.\n\n# Analytical approach-\nAccording to the need of client first we have to find the City and then the Locality in that city for Business. To solve this particular problem and to gather data we will set few Benchmarks for the City and the locality in which opening a Casino/Shopping Mall would be Successful.\n\n1.For discovering the City following benchmarks must meet\n\nNightlife\n\nServices\n\nTransport\n\nResidence\n\nUniversities\n\nFood\n\nEntertainment\n\nTravel\n\nOutdoor Activities\n\n2.Benchmarks for the Locality in City\n\nPer Capita Income\n\nPopulation\n\nPopulation Density\n\nVenues", 
            "cell_type": "markdown", 
            "metadata": {
                "collapsed": true
            }
        }, 
        {
            "source": "# Data Requirements and Description-\nData that will be required for solving the problem -\n\nList of all the cities in United States with population density and coordinates\nList of all the cities in United States with Per Capita Income\nList of all venues in each city\nList of all venues in each locality in the selected city\n# Source of Data\n### Wikipedia\n\nhttps://en.wikipedia.org/wiki/List_of_United_States_cities_by_population\nhttps://en.wikipedia.org/wiki/List_of_United_States_counties_by_per_capita_income\n## FourSquare API\n\nFor Venues in CIty and in Each locality in selected city.\n\n# Data Description(How to use Data to solve the Problem?)\n\nBy Using the Wikipedia data we will first analyse the data and then focus on certain benchmarks to discover the best City in USA to open a Casino/Shopping mall. Then by leveraging the Foursquare data we will compare and try to find the best locality. Based on Scores we will try to determine the Locality in simillar way.", 
            "cell_type": "markdown", 
            "metadata": {}
        }, 
        {
            "execution_count": null, 
            "cell_type": "code", 
            "metadata": {}, 
            "outputs": [], 
            "source": ""
        }
    ], 
    "metadata": {
        "kernelspec": {
            "display_name": "Python 3.6", 
            "name": "python3", 
            "language": "python"
        }, 
        "language_info": {
            "mimetype": "text/x-python", 
            "nbconvert_exporter": "python", 
            "version": "3.6.8", 
            "name": "python", 
            "file_extension": ".py", 
            "pygments_lexer": "ipython3", 
            "codemirror_mode": {
                "version": 3, 
                "name": "ipython"
            }
        }
    }, 
    "nbformat": 4
}